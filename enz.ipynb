{
 "cells": [
  {
   "cell_type": "markdown",
   "id": "a6786b84-8d57-4219-ad8d-b33821cbaedb",
   "metadata": {},
   "source": [
    "# Enzymology Homework\n",
    "\n",
    "### Student: Artem Fadeev\n",
    "\n",
    "### Professor: Vojtěch Spiwok\n",
    "\n",
    "#### Date: 16.3.2025"
   ]
  },
  {
   "cell_type": "code",
   "execution_count": 3,
   "id": "94fa7996-d7eb-445f-9d1e-a7014466ffeb",
   "metadata": {},
   "outputs": [],
   "source": [
    "import numpy as np\n",
    "import pandas as pd\n",
    "import scipy.optimize as opt\n",
    "import matplotlib.pyplot as plt\n",
    "from scipy.stats import linregress\n",
    "\n",
    "# Load data\n",
    "df = pd.read_csv('data63.txt', sep=r'\\s+', names=['Substrate', 'Inhibitor', 'Rate'], header=None)\n",
    "\n",
    "# Separate inhibited and uninhibited data\n",
    "no_inhibitor = df[df['Inhibitor'] == 0]\n",
    "with_inhibitor = df[df['Inhibitor'] > 0]"
   ]
  },
  {
   "cell_type": "code",
   "execution_count": 4,
   "id": "dbe61d66-6c2e-4d52-aeac-25a85194da26",
   "metadata": {
    "scrolled": true
   },
   "outputs": [
    {
     "data": {
      "text/html": [
       "<div>\n",
       "<style scoped>\n",
       "    .dataframe tbody tr th:only-of-type {\n",
       "        vertical-align: middle;\n",
       "    }\n",
       "\n",
       "    .dataframe tbody tr th {\n",
       "        vertical-align: top;\n",
       "    }\n",
       "\n",
       "    .dataframe thead th {\n",
       "        text-align: right;\n",
       "    }\n",
       "</style>\n",
       "<table border=\"1\" class=\"dataframe\">\n",
       "  <thead>\n",
       "    <tr style=\"text-align: right;\">\n",
       "      <th></th>\n",
       "      <th>Substrate</th>\n",
       "      <th>Inhibitor</th>\n",
       "      <th>Rate</th>\n",
       "    </tr>\n",
       "  </thead>\n",
       "  <tbody>\n",
       "    <tr>\n",
       "      <th>0</th>\n",
       "      <td>1.0</td>\n",
       "      <td>0.0</td>\n",
       "      <td>0.24</td>\n",
       "    </tr>\n",
       "    <tr>\n",
       "      <th>1</th>\n",
       "      <td>2.0</td>\n",
       "      <td>0.0</td>\n",
       "      <td>0.39</td>\n",
       "    </tr>\n",
       "    <tr>\n",
       "      <th>2</th>\n",
       "      <td>3.0</td>\n",
       "      <td>0.0</td>\n",
       "      <td>0.49</td>\n",
       "    </tr>\n",
       "    <tr>\n",
       "      <th>3</th>\n",
       "      <td>4.0</td>\n",
       "      <td>0.0</td>\n",
       "      <td>0.55</td>\n",
       "    </tr>\n",
       "    <tr>\n",
       "      <th>4</th>\n",
       "      <td>5.0</td>\n",
       "      <td>0.0</td>\n",
       "      <td>0.61</td>\n",
       "    </tr>\n",
       "    <tr>\n",
       "      <th>5</th>\n",
       "      <td>1.0</td>\n",
       "      <td>1.0</td>\n",
       "      <td>0.04</td>\n",
       "    </tr>\n",
       "    <tr>\n",
       "      <th>6</th>\n",
       "      <td>2.0</td>\n",
       "      <td>1.0</td>\n",
       "      <td>0.06</td>\n",
       "    </tr>\n",
       "    <tr>\n",
       "      <th>7</th>\n",
       "      <td>3.0</td>\n",
       "      <td>1.0</td>\n",
       "      <td>0.08</td>\n",
       "    </tr>\n",
       "    <tr>\n",
       "      <th>8</th>\n",
       "      <td>4.0</td>\n",
       "      <td>1.0</td>\n",
       "      <td>0.09</td>\n",
       "    </tr>\n",
       "    <tr>\n",
       "      <th>9</th>\n",
       "      <td>5.0</td>\n",
       "      <td>1.0</td>\n",
       "      <td>0.10</td>\n",
       "    </tr>\n",
       "  </tbody>\n",
       "</table>\n",
       "</div>"
      ],
      "text/plain": [
       "   Substrate  Inhibitor  Rate\n",
       "0        1.0        0.0  0.24\n",
       "1        2.0        0.0  0.39\n",
       "2        3.0        0.0  0.49\n",
       "3        4.0        0.0  0.55\n",
       "4        5.0        0.0  0.61\n",
       "5        1.0        1.0  0.04\n",
       "6        2.0        1.0  0.06\n",
       "7        3.0        1.0  0.08\n",
       "8        4.0        1.0  0.09\n",
       "9        5.0        1.0  0.10"
      ]
     },
     "execution_count": 4,
     "metadata": {},
     "output_type": "execute_result"
    }
   ],
   "source": [
    "df"
   ]
  },
  {
   "cell_type": "markdown",
   "id": "97490466-b170-4a89-ba01-fcff211baa9b",
   "metadata": {},
   "source": [
    "### 1. Michaelis-Menten Function\n",
    "The Michaelis-Menten equation describes the rate of enzymatic reactions by relating reaction rate (V) to substrate concentration (S).\n",
    "\n",
    "It is given by the formula:\n",
    "\n",
    "$$V = \\frac{V_{max} \\cdot [S]}{K_m + [S]}$$\n",
    " \n",
    "where:\n",
    "-  $ V $  is the reaction rate\n",
    "- $ V_{max} $ is the maximum reaction rate\n",
    "- $[S]$ is the substrate concentration\n",
    "- $ K_m $ is the Michaelis constant, representing the substrate concentration at half $ V_{max} $\n"
   ]
  },
  {
   "cell_type": "code",
   "execution_count": 6,
   "id": "a2cbb6ba-e774-485e-9b33-b919eaaa7a54",
   "metadata": {},
   "outputs": [],
   "source": [
    "# Michaelis-Menten function\n",
    "def michaelis_menten(S, Vmax, Km):\n",
    "    \"\"\"Michaelis-Menten equation.\"\"\"\n",
    "    return (Vmax * S) / (Km + S)"
   ]
  },
  {
   "cell_type": "markdown",
   "id": "50f9a7e9-4bff-48fb-8717-2d2c6666dca1",
   "metadata": {},
   "source": [
    "### 2. Parameter Estimation Without Inhibitor\n",
    "We fit the Michaelis-Menten equation to experimental data without an inhibitor using non-linear curve fitting.\n",
    "\n",
    "In this section, we estimate the kinetic parameters  $V_{max}$  and  $K_m$  for the enzyme in the absence of an inhibitor. The Michaelis-Menten equation is fitted to the experimental data using non-linear curve fitting. This process finds the best-fit values of  $V_{max}$  and  $K_m$  by minimizing the difference between the observed reaction rates and those predicted by the equation.\n",
    "\n",
    "Why We Do This:\n",
    "- Determine Baseline Kinetics: Understanding enzyme behavior without an inhibitor provides a reference point for comparing inhibited reactions.\n",
    "    \n",
    "- Extract Key Parameters:\n",
    "    \n",
    "\t•\t $V_{max}$  (maximum reaction rate) tells us the enzyme’s efficiency when saturated with the substrate.\n",
    "\n",
    "\n",
    "\t•\t $K_m$  (Michaelis constant) indicates how strongly the enzyme binds to the substrate; a lower  $K_m$  means higher affinity.\n"
   ]
  },
  {
   "cell_type": "code",
   "execution_count": 8,
   "id": "b16c5aec-cbe8-4964-ab37-21ba32f0160e",
   "metadata": {},
   "outputs": [
    {
     "name": "stdout",
     "output_type": "stream",
     "text": [
      "Without Inhibitor: Vmax = 0.976, Km = 3.028\n"
     ]
    }
   ],
   "source": [
    "# Fit data without inhibitor\n",
    "params_no_inhib, _ = opt.curve_fit(michaelis_menten, no_inhibitor['Substrate'], no_inhibitor['Rate'])\n",
    "Vmax_no_inhib, Km_no_inhib = params_no_inhib\n",
    "\n",
    "print(f\"Without Inhibitor: Vmax = {Vmax_no_inhib:.3f}, Km = {Km_no_inhib:.3f}\")"
   ]
  },
  {
   "cell_type": "markdown",
   "id": "08483e86-d724-4916-9314-a2419f6bf5e6",
   "metadata": {},
   "source": [
    " ### 3. Competitive Inhibition Model\n",
    " In competitive inhibition, the inhibitor competes with the substrate for the active site, affecting Km but not Vmax.\n",
    " The modified equation is:\n",
    " $$ V = \\frac{V_{max} \\cdot [S]}{K_m \\left(1 + \\frac{[I]}{K_i}\\right) + [S]} $$\n",
    " where:\n",
    " - $ [I] $ is the inhibitor concentration\n",
    " - $ K_i $ is the inhibition constant, describing inhibitor binding affinity"
   ]
  },
  {
   "cell_type": "code",
   "execution_count": 10,
   "id": "15fc0593-b474-44ab-9ca9-80c9c2eff912",
   "metadata": {},
   "outputs": [
    {
     "name": "stdout",
     "output_type": "stream",
     "text": [
      "With Inhibitor: Vmax = 0.166, Km = 3.307, Ki = 308.291\n"
     ]
    }
   ],
   "source": [
    "# Competitive inhibition: Km is affected, Vmax is constant\n",
    "def competitive_inhibition(S, Vmax, Km, Ki, I):\n",
    "    return (Vmax * S) / (Km * (1 + I / Ki) + S)\n",
    "\n",
    "# Fit the competitive inhibition model to the experimental data with inhibitor.\n",
    "params_inhib, _ = opt.curve_fit(\n",
    "    lambda S, Vmax, Km, Ki: competitive_inhibition(S, Vmax, Km, Ki, with_inhibitor['Inhibitor'].iloc[0]),\n",
    "    with_inhibitor['Substrate'],\n",
    "    with_inhibitor['Rate'],\n",
    "    p0=[Vmax_no_inhib, Km_no_inhib, 1]  # Initial guesses based on uninhibited values\n",
    ")\n",
    "\n",
    "Vmax_inhib, Km_inhib, Ki = params_inhib\n",
    "\n",
    "print(f\"With Inhibitor: Vmax = {Vmax_inhib:.3f}, Km = {Km_inhib:.3f}, Ki = {Ki:.3f}\")"
   ]
  },
  {
   "cell_type": "markdown",
   "id": "a8b51796-2e8a-4f46-8298-7d01f88a865d",
   "metadata": {},
   "source": [
    " ### 4. Lineweaver-Burk Plot\n",
    " The Lineweaver-Burk transformation is a double reciprocal plot used to determine kinetic parameters and distinguish inhibition types.\n",
    "\n",
    " The transformation is given by:\n",
    " $$ \\frac{1}{V} = \\frac{K_m}{V_{max} \\cdot [S]} + \\frac{1}{V_{max}} $$\n"
   ]
  },
  {
   "cell_type": "code",
   "execution_count": 12,
   "id": "690d2f5d-cd04-486d-818c-b625eed7ed4f",
   "metadata": {},
   "outputs": [
    {
     "data": {
      "image/png": "[encoded data removed]",
      "text/plain": [
       "<Figure size 800x600 with 1 Axes>"
      ]
     },
     "metadata": {},
     "output_type": "display_data"
    }
   ],
   "source": [
    "df = pd.concat([no_inhibitor.assign(Type='Without Inhibitor'), with_inhibitor.assign(Type='With Inhibitor')], ignore_index=True)  # Combine data for visualization\n",
    "inv_substrate = 1 / df['Substrate']\n",
    "inv_rate = 1 / df['Rate']\n",
    "\n",
    "plt.figure(figsize=(8,6))\n",
    "for label, color in zip(['Without Inhibitor', 'With Inhibitor'], ['blue', 'red']):\n",
    "    subset = df[df['Type'] == label]\n",
    "    plt.scatter(1 / subset['Substrate'], 1 / subset['Rate'], label=label, color=color, alpha=0.7)\n",
    "    \n",
    "    # Fit a linear regression line for each condition\n",
    "    slope, intercept = np.polyfit(1 / subset['Substrate'], 1 / subset['Rate'], 1)\n",
    "    plt.plot(1 / subset['Substrate'], slope * (1 / subset['Substrate']) + intercept, color=color, linestyle='--')\n",
    "\n",
    "plt.xlabel('1/[S] (1/mM)')\n",
    "plt.ylabel('1/V (1/µmol·L⁻¹·min⁻¹)')\n",
    "plt.title('Lineweaver-Burk Plot')\n",
    "plt.axhline(0, color='black', linewidth=0.7)\n",
    "plt.axvline(0, color='black', linewidth=0.7)\n",
    "plt.legend()\n",
    "plt.grid(True, linestyle='--', alpha=0.5)\n",
    "plt.show()"
   ]
  },
  {
   "cell_type": "markdown",
   "id": "d2c4c01f-baa0-4a30-8d68-92eda7d37f57",
   "metadata": {},
   "source": [
    "# Conclusion\n",
    "\n",
    "The results indicate competitive inhibition, as seen in the increased Km (from 3.028 to 3.307) and significantly reduced Vmax (from 0.976 to 0.166). The inhibition constant Ki was determined to be 308.291.\n",
    "\n",
    "These findings are consistent with competitive inhibition, where the inhibitor binds to the active site and increases the apparent Km, indicating a lower substrate affinity, while Vmax remains theoretically unchanged. However, in this case, the observed Vmax is significantly lower, which could suggest additional factors affecting the enzyme’s activity, such as partial inhibition or experimental limitations.\n",
    "\n",
    "The Lineweaver-Burk plot confirms these changes, showing a steeper slope for the inhibited reaction. This suggests reduced substrate affinity while potentially maintaining Vmax in ideal conditions."
   ]
  }
 ],
 "metadata": {
  "kernelspec": {
   "display_name": "Python [conda env:base] *",
   "language": "python",
   "name": "conda-base-py"
  },
  "language_info": {
   "codemirror_mode": {
    "name": "ipython",
    "version": 3
   },
   "file_extension": ".py",
   "mimetype": "text/x-python",
   "name": "python",
   "nbconvert_exporter": "python",
   "pygments_lexer": "ipython3",
   "version": "3.12.2"
  }
 },
 "nbformat": 4,
 "nbformat_minor": 5
}
